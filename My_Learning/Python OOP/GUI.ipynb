{
 "cells": [
  {
   "cell_type": "code",
   "execution_count": 32,
   "metadata": {},
   "outputs": [],
   "source": [
    "import tkinter as tn\n",
    "from tkinter import ttk\n",
    "\n",
    "gui=tn.Tk()\n",
    "gui.geometry('600x400')\n",
    "gui.title(\"First Gui\")\n",
    "\n",
    "\n",
    "\n",
    "\n",
    "    \n",
    "    \n",
    "button_1=tn.Button(gui,text=\"Click Me\",command = click_event)    \n",
    "button_1.pack(side=tn.LEFT)\n",
    "\n",
    "\n",
    "\n",
    "def click_event():\n",
    "    gui.title(\"Titile changed\")\n",
    "    button_1.config(text=\"Cliecked the button\")\n",
    "    button_2=tn.Button(gui,text=\"second button\")\n",
    "    button_2.pack()\n",
    "\n",
    "gui.mainloop()"
   ]
  },
  {
   "cell_type": "code",
   "execution_count": null,
   "metadata": {},
   "outputs": [],
   "source": [
    "import tkinter as tk\n",
    "\n",
    "##Definte the layout and object\n",
    "\n",
    "gui = tk.Tk()\n",
    "gui.title(\"Banking application - Accont login\")\n",
    "gui.geometry('700x700')\n",
    "\n",
    "\n",
    "#Creating the widegest \n",
    "\n",
    "# creating login button\n",
    "\n",
    "login_button = tk.Button(gui,text=\"Login\",command=click_event)\n",
    "login_button.grid(row=0,column=0)\n",
    "\n",
    "\n",
    "entry_one=tk.Entry(gui,width=20,textvariable=entry_one_str)\n",
    "entry_one.grid(row=0,column=1)\n",
    "entry_one_str =tk.StringVar()\n",
    "\n",
    "\n",
    "entry_two_str =tk.StringVar(value=\"Default\")\n",
    "entry_two=tk.Entry(gui,width=20,textvariable=entry_two_str)\n",
    "entry_two.grid(row=1,column=1)\n",
    "\n",
    "\n",
    "\n",
    "login_button_1= tk.Button(gui,text=\"Login\")\n",
    "login_button_1.grid(row=1,column=0)\n",
    "\n",
    "def click_event():\n",
    "    login_button.config(text=\"Changed the text\")\n",
    "\n",
    "\n",
    "    \n",
    "## Call the object gui\n",
    "gui.mainloop()"
   ]
  },
  {
   "cell_type": "code",
   "execution_count": null,
   "metadata": {},
   "outputs": [],
   "source": []
  }
 ],
 "metadata": {
  "kernelspec": {
   "display_name": "Python 3",
   "language": "python",
   "name": "python3"
  },
  "language_info": {
   "codemirror_mode": {
    "name": "ipython",
    "version": 3
   },
   "file_extension": ".py",
   "mimetype": "text/x-python",
   "name": "python",
   "nbconvert_exporter": "python",
   "pygments_lexer": "ipython3",
   "version": "3.7.3"
  }
 },
 "nbformat": 4,
 "nbformat_minor": 2
}
