{
 "cells": [
  {
   "cell_type": "code",
   "execution_count": 5,
   "metadata": {},
   "outputs": [],
   "source": [
    "text=\"vijay #Mani #Vijay #bala how are you \""
   ]
  },
  {
   "cell_type": "code",
   "execution_count": 7,
   "metadata": {},
   "outputs": [],
   "source": [
    "j=text.split(\" \")"
   ]
  },
  {
   "cell_type": "code",
   "execution_count": 15,
   "metadata": {},
   "outputs": [
    {
     "name": "stdout",
     "output_type": "stream",
     "text": [
      "#Mani\n",
      "#Vijay\n",
      "#bala\n"
     ]
    }
   ],
   "source": [
    "for  i in j:\n",
    "    if i.startswith('#'):\n",
    "        print (i)\n",
    "    "
   ]
  },
  {
   "cell_type": "code",
   "execution_count": 18,
   "metadata": {},
   "outputs": [],
   "source": [
    "import math\n",
    "\n",
    "class Point:\n",
    "\t\t'Represents a point in two-dimensional geometric coordinates'\n",
    "\t\t\n",
    "\t\tdef __init__(self, x=0, y=0):\n",
    "\t\t\t'''Initialize the position of a new point. The x and y \n",
    "\t\t\t\tcoordinates can be specified. If they are not, the point \n",
    "\t\t\t\tdefaults to the origin.'''\n",
    "\t\t\tself.move(x, y)\n",
    "\t\t\t\n",
    "\t\tdef move(self, x, y):\n",
    "\t\t\t\"Move the point to a new location in two-dimensional space.\"\n",
    "\t\t\tself.x = x\t\t\n",
    "\t\t\tself.y = y\n",
    "\t\tdef reset(self):\n",
    "\t\t\t'Reset the point back to the geometric origin: 0, 0'\t\t\n",
    "\t\t\tself.move(0, 0)\n",
    "\t\t\t"
   ]
  },
  {
   "cell_type": "code",
   "execution_count": 20,
   "metadata": {},
   "outputs": [
    {
     "name": "stdout",
     "output_type": "stream",
     "text": [
      "Help on class Point in module __main__:\n",
      "\n",
      "class Point(builtins.object)\n",
      " |  Point(x=0, y=0)\n",
      " |  \n",
      " |  Represents a point in two-dimensional geometric coordinates\n",
      " |  \n",
      " |  Methods defined here:\n",
      " |  \n",
      " |  __init__(self, x=0, y=0)\n",
      " |      Initialize the position of a new point. The x and y \n",
      " |      coordinates can be specified. If they are not, the point \n",
      " |      defaults to the origin.\n",
      " |  \n",
      " |  move(self, x, y)\n",
      " |      Move the point to a new location in two-dimensional space.\n",
      " |  \n",
      " |  reset(self)\n",
      " |      Reset the point back to the geometric origin: 0, 0\n",
      " |  \n",
      " |  ----------------------------------------------------------------------\n",
      " |  Data descriptors defined here:\n",
      " |  \n",
      " |  __dict__\n",
      " |      dictionary for instance variables (if defined)\n",
      " |  \n",
      " |  __weakref__\n",
      " |      list of weak references to the object (if defined)\n",
      "\n"
     ]
    }
   ],
   "source": [
    "help(Point)"
   ]
  },
  {
   "cell_type": "markdown",
   "metadata": {},
   "source": [
    "`Vijay Mani`"
   ]
  },
  {
   "cell_type": "code",
   "execution_count": 21,
   "metadata": {},
   "outputs": [
    {
     "data": {
      "text/plain": [
       "6"
      ]
     },
     "execution_count": 21,
     "metadata": {},
     "output_type": "execute_result"
    }
   ],
   "source": [
    "len('python')"
   ]
  },
  {
   "cell_type": "code",
   "execution_count": null,
   "metadata": {},
   "outputs": [],
   "source": []
  }
 ],
 "metadata": {
  "kernelspec": {
   "display_name": "Python 3",
   "language": "python",
   "name": "python3"
  },
  "language_info": {
   "codemirror_mode": {
    "name": "ipython",
    "version": 3
   },
   "file_extension": ".py",
   "mimetype": "text/x-python",
   "name": "python",
   "nbconvert_exporter": "python",
   "pygments_lexer": "ipython3",
   "version": "3.7.3"
  }
 },
 "nbformat": 4,
 "nbformat_minor": 2
}
