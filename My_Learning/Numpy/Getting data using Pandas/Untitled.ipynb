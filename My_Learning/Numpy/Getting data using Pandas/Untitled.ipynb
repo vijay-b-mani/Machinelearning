{
 "cells": [
  {
   "cell_type": "code",
   "execution_count": 15,
   "metadata": {},
   "outputs": [],
   "source": [
    "import pandas as pd\n",
    "import numpy as np"
   ]
  },
  {
   "cell_type": "code",
   "execution_count": 3,
   "metadata": {},
   "outputs": [],
   "source": [
    "a=pd.read_csv(\"ML+C9 (1).csv\")"
   ]
  },
  {
   "cell_type": "code",
   "execution_count": 6,
   "metadata": {},
   "outputs": [
    {
     "data": {
      "text/html": [
       "<div>\n",
       "<style scoped>\n",
       "    .dataframe tbody tr th:only-of-type {\n",
       "        vertical-align: middle;\n",
       "    }\n",
       "\n",
       "    .dataframe tbody tr th {\n",
       "        vertical-align: top;\n",
       "    }\n",
       "\n",
       "    .dataframe thead th {\n",
       "        text-align: right;\n",
       "    }\n",
       "</style>\n",
       "<table border=\"1\" class=\"dataframe\">\n",
       "  <thead>\n",
       "    <tr style=\"text-align: right;\">\n",
       "      <th></th>\n",
       "      <th>YearsOfExp</th>\n",
       "      <th>CompanyName1</th>\n",
       "      <th>Title1</th>\n",
       "      <th>FieldOfStudy1</th>\n",
       "      <th>Major1</th>\n",
       "      <th>Gender</th>\n",
       "      <th>City</th>\n",
       "      <th>State</th>\n",
       "    </tr>\n",
       "  </thead>\n",
       "  <tbody>\n",
       "    <tr>\n",
       "      <th>0</th>\n",
       "      <td>6</td>\n",
       "      <td>Siemens Gamesa</td>\n",
       "      <td>Senior System Engineer</td>\n",
       "      <td>Electronics and Communication</td>\n",
       "      <td>B.E</td>\n",
       "      <td>Male</td>\n",
       "      <td>Bengaluru</td>\n",
       "      <td>Karnataka</td>\n",
       "    </tr>\n",
       "    <tr>\n",
       "      <th>1</th>\n",
       "      <td>10</td>\n",
       "      <td>pankajkmr@gmail.com</td>\n",
       "      <td>0</td>\n",
       "      <td>MSc</td>\n",
       "      <td>Post Diploma in Computer Engg</td>\n",
       "      <td>0</td>\n",
       "      <td>Bengaluru</td>\n",
       "      <td>Karnataka</td>\n",
       "    </tr>\n",
       "    <tr>\n",
       "      <th>2</th>\n",
       "      <td>10</td>\n",
       "      <td>allianz</td>\n",
       "      <td>0</td>\n",
       "      <td>Electronics &amp; Communication Engineering</td>\n",
       "      <td>B.Tech</td>\n",
       "      <td>0</td>\n",
       "      <td>Trivandrum</td>\n",
       "      <td>Kerala</td>\n",
       "    </tr>\n",
       "    <tr>\n",
       "      <th>3</th>\n",
       "      <td>10</td>\n",
       "      <td>Wipro Technologies</td>\n",
       "      <td>SAP Practice Global Automation(Artificial Inte...</td>\n",
       "      <td>Mechanical Engineering</td>\n",
       "      <td>B.Tech</td>\n",
       "      <td>Male</td>\n",
       "      <td>Hyderabad, Telangana, India</td>\n",
       "      <td>Telangana</td>\n",
       "    </tr>\n",
       "    <tr>\n",
       "      <th>4</th>\n",
       "      <td>0</td>\n",
       "      <td>Cisco Systems</td>\n",
       "      <td>0</td>\n",
       "      <td>Computer Science</td>\n",
       "      <td>0</td>\n",
       "      <td>0</td>\n",
       "      <td>Bengaluru</td>\n",
       "      <td>Karnataka</td>\n",
       "    </tr>\n",
       "  </tbody>\n",
       "</table>\n",
       "</div>"
      ],
      "text/plain": [
       "   YearsOfExp         CompanyName1  \\\n",
       "0           6       Siemens Gamesa   \n",
       "1          10  pankajkmr@gmail.com   \n",
       "2          10              allianz   \n",
       "3          10   Wipro Technologies   \n",
       "4           0        Cisco Systems   \n",
       "\n",
       "                                              Title1  \\\n",
       "0                             Senior System Engineer   \n",
       "1                                                  0   \n",
       "2                                                  0   \n",
       "3  SAP Practice Global Automation(Artificial Inte...   \n",
       "4                                                  0   \n",
       "\n",
       "                             FieldOfStudy1                         Major1  \\\n",
       "0            Electronics and Communication                            B.E   \n",
       "1                                      MSc  Post Diploma in Computer Engg   \n",
       "2  Electronics & Communication Engineering                         B.Tech   \n",
       "3                   Mechanical Engineering                         B.Tech   \n",
       "4                         Computer Science                              0   \n",
       "\n",
       "  Gender                         City      State  \n",
       "0   Male                    Bengaluru  Karnataka  \n",
       "1      0                    Bengaluru  Karnataka  \n",
       "2      0                   Trivandrum     Kerala  \n",
       "3   Male  Hyderabad, Telangana, India  Telangana  \n",
       "4      0                    Bengaluru  Karnataka  "
      ]
     },
     "execution_count": 6,
     "metadata": {},
     "output_type": "execute_result"
    }
   ],
   "source": []
  },
  {
   "cell_type": "code",
   "execution_count": 20,
   "metadata": {},
   "outputs": [
    {
     "data": {
      "text/plain": [
       "RangeIndex(start=0, stop=277, step=1)"
      ]
     },
     "execution_count": 20,
     "metadata": {},
     "output_type": "execute_result"
    }
   ],
   "source": [
    "a.index"
   ]
  },
  {
   "cell_type": "code",
   "execution_count": 22,
   "metadata": {},
   "outputs": [
    {
     "data": {
      "text/plain": [
       "5.776173285198556"
      ]
     },
     "execution_count": 22,
     "metadata": {},
     "output_type": "execute_result"
    }
   ],
   "source": [
    "(16/277)*100"
   ]
  },
  {
   "cell_type": "code",
   "execution_count": 34,
   "metadata": {},
   "outputs": [
    {
     "data": {
      "text/plain": [
       "Gender\n",
       "Female     6\n",
       "Male      50\n",
       "Name: Gender, dtype: int64"
      ]
     },
     "execution_count": 34,
     "metadata": {},
     "output_type": "execute_result"
    }
   ],
   "source": [
    "a[a['Gender'] !='0'].groupby(['Gender'])['Gender'].count()"
   ]
  },
  {
   "cell_type": "markdown",
   "metadata": {},
   "source": [
    "###### 6/"
   ]
  },
  {
   "cell_type": "code",
   "execution_count": 35,
   "metadata": {},
   "outputs": [
    {
     "data": {
      "text/plain": [
       "0.10714285714285714"
      ]
     },
     "execution_count": 35,
     "metadata": {},
     "output_type": "execute_result"
    }
   ],
   "source": [
    "6/56"
   ]
  },
  {
   "cell_type": "code",
   "execution_count": 36,
   "metadata": {},
   "outputs": [],
   "source": [
    "citi=['Bengaluru', 'Bangalore']"
   ]
  },
  {
   "cell_type": "code",
   "execution_count": 47,
   "metadata": {},
   "outputs": [
    {
     "data": {
      "text/plain": [
       "40.794223826714806"
      ]
     },
     "execution_count": 47,
     "metadata": {},
     "output_type": "execute_result"
    }
   ],
   "source": [
    "len(a[a['City'].isin(citi)])/len(a)*100"
   ]
  },
  {
   "cell_type": "code",
   "execution_count": 57,
   "metadata": {},
   "outputs": [
    {
     "data": {
      "text/plain": [
       "City\n",
       "Bengaluru                      99\n",
       "Hyderabad                      25\n",
       "0                              18\n",
       "Pune                           18\n",
       "Bangalore                      14\n",
       "Mumbai                         11\n",
       "Gurugram                        9\n",
       "New Delhi                       9\n",
       "Chennai                         7\n",
       "Kolkata                         5\n",
       "Delhi                           4\n",
       "Kochi                           3\n",
       "Noida                           3\n",
       "Bangkok                         3\n",
       "Trivandrum                      2\n",
       "San Jose                        2\n",
       "Thiruvananthapuram              2\n",
       "Ghaziabad                       2\n",
       "Dubai                           1\n",
       "Kanpur                          1\n",
       "Ernakulam                       1\n",
       "Fujairah                        1\n",
       "Coimbatore                      1\n",
       "Chennai, Tamil Nadu, India      1\n",
       "Hawally                         1\n",
       "Bhubaneswar                     1\n",
       "BANGALORE                       1\n",
       "Hyderabad, Telangana, India     1\n",
       "Jaipur                          1\n",
       "Jharsuguda                      1\n",
       "Jubilee Hills                   1\n",
       "Ajmer                           1\n",
       "Chandigarh                      1\n",
       "pune                            1\n",
       "Kitchener                       1\n",
       "Kota                            1\n",
       "Woodbridge Township             1\n",
       "West Chester                    1\n",
       "Vellore                         1\n",
       "Varanasi                        1\n",
       "Sydney NSW, Australia           1\n",
       "Singapore                       1\n",
       "Salem                           1\n",
       "Philadelphia                    1\n",
       "Patna                           1\n",
       "Others                          1\n",
       "Other                           1\n",
       "New York                        1\n",
       "Nellore                         1\n",
       "Navi Mumbai                     1\n",
       "Nahan                           1\n",
       "Mysuru                          1\n",
       "Mysore                          1\n",
       "Mumbai, Maharashtra, India      1\n",
       "Luton                           1\n",
       "London                          1\n",
       "dubai                           1\n",
       "Kottayam                        1\n",
       "Name: City, dtype: int64"
      ]
     },
     "execution_count": 57,
     "metadata": {},
     "output_type": "execute_result"
    }
   ],
   "source": [
    "a.groupby('City')['City'].count().sort_values(ascending=False)"
   ]
  },
  {
   "cell_type": "code",
   "execution_count": 54,
   "metadata": {},
   "outputs": [
    {
     "data": {
      "text/plain": [
       "count    58.000000\n",
       "mean      4.758621\n",
       "std      13.515826\n",
       "min       1.000000\n",
       "25%       1.000000\n",
       "50%       1.000000\n",
       "75%       2.000000\n",
       "max      99.000000\n",
       "Name: City, dtype: float64"
      ]
     },
     "execution_count": 54,
     "metadata": {},
     "output_type": "execute_result"
    }
   ],
   "source": [
    "b.describe()"
   ]
  },
  {
   "cell_type": "code",
   "execution_count": null,
   "metadata": {},
   "outputs": [],
   "source": []
  }
 ],
 "metadata": {
  "kernelspec": {
   "display_name": "Python 3",
   "language": "python",
   "name": "python3"
  },
  "language_info": {
   "codemirror_mode": {
    "name": "ipython",
    "version": 3
   },
   "file_extension": ".py",
   "mimetype": "text/x-python",
   "name": "python",
   "nbconvert_exporter": "python",
   "pygments_lexer": "ipython3",
   "version": "3.7.3"
  }
 },
 "nbformat": 4,
 "nbformat_minor": 2
}
